{
 "cells": [
  {
   "cell_type": "code",
   "execution_count": 1,
   "metadata": {},
   "outputs": [],
   "source": [
    "import optuna"
   ]
  },
  {
   "cell_type": "code",
   "execution_count": 2,
   "metadata": {},
   "outputs": [],
   "source": [
    "def objective(trial):\n",
    "    x = trial.suggest_float(\"x\", -100, 100)\n",
    "    y = trial.suggest_categorical(\"y\", [-1, 0, 1])\n",
    "    return x ** 2 + y"
   ]
  },
  {
   "cell_type": "code",
   "execution_count": 3,
   "metadata": {},
   "outputs": [
    {
     "name": "stderr",
     "output_type": "stream",
     "text": [
      "[I 2023-11-01 13:50:34,659] A new study created in memory with name: no-name-42812309-18b7-45e2-b93b-5a03305fa116\n"
     ]
    }
   ],
   "source": [
    "study = optuna.create_study()"
   ]
  },
  {
   "cell_type": "code",
   "execution_count": 4,
   "metadata": {},
   "outputs": [
    {
     "name": "stderr",
     "output_type": "stream",
     "text": [
      "[I 2023-11-01 13:50:34,670] Trial 0 finished with value: 2279.250652367249 and parameters: {'x': 47.74149822080628, 'y': 0}. Best is trial 0 with value: 2279.250652367249.\n",
      "[I 2023-11-01 13:50:34,672] Trial 1 finished with value: 382.38991354631736 and parameters: {'x': -19.529206679901705, 'y': 1}. Best is trial 1 with value: 382.38991354631736.\n",
      "[I 2023-11-01 13:50:34,673] Trial 2 finished with value: 2595.3744866552097 and parameters: {'x': -50.95463165066754, 'y': -1}. Best is trial 1 with value: 382.38991354631736.\n",
      "[I 2023-11-01 13:50:34,674] Trial 3 finished with value: 979.9401473975163 and parameters: {'x': -31.31996403889245, 'y': -1}. Best is trial 1 with value: 382.38991354631736.\n",
      "[I 2023-11-01 13:50:34,675] Trial 4 finished with value: 1531.4450708265135 and parameters: {'x': -39.1209032465575, 'y': 1}. Best is trial 1 with value: 382.38991354631736.\n",
      "[I 2023-11-01 13:50:34,677] Trial 5 finished with value: 720.4711334511926 and parameters: {'x': 26.822959073360877, 'y': 1}. Best is trial 1 with value: 382.38991354631736.\n",
      "[I 2023-11-01 13:50:34,678] Trial 6 finished with value: 424.2284591727724 and parameters: {'x': -20.59680701401973, 'y': 0}. Best is trial 1 with value: 382.38991354631736.\n",
      "[I 2023-11-01 13:50:34,679] Trial 7 finished with value: 1254.9276223387255 and parameters: {'x': 35.439069151696486, 'y': -1}. Best is trial 1 with value: 382.38991354631736.\n",
      "[I 2023-11-01 13:50:34,680] Trial 8 finished with value: 3959.3999946139497 and parameters: {'x': 62.923763353870925, 'y': 0}. Best is trial 1 with value: 382.38991354631736.\n",
      "[I 2023-11-01 13:50:34,681] Trial 9 finished with value: 6895.160882445917 and parameters: {'x': -83.03710545560892, 'y': 0}. Best is trial 1 with value: 382.38991354631736.\n",
      "[I 2023-11-01 13:50:34,687] Trial 10 finished with value: 8493.609136524745 and parameters: {'x': 92.15535327111901, 'y': 1}. Best is trial 1 with value: 382.38991354631736.\n",
      "[I 2023-11-01 13:50:34,690] Trial 11 finished with value: 99.07715781638778 and parameters: {'x': -9.953750942051332, 'y': 0}. Best is trial 11 with value: 99.07715781638778.\n",
      "[I 2023-11-01 13:50:34,694] Trial 12 finished with value: 34.21832835961812 and parameters: {'x': 5.763534363532338, 'y': 1}. Best is trial 12 with value: 34.21832835961812.\n",
      "[I 2023-11-01 13:50:34,695] Trial 13 finished with value: 64.49355902333112 and parameters: {'x': 8.03078819440104, 'y': 0}. Best is trial 12 with value: 34.21832835961812.\n",
      "[I 2023-11-01 13:50:34,701] Trial 14 finished with value: 145.4859006497601 and parameters: {'x': 12.020228810208236, 'y': 1}. Best is trial 12 with value: 34.21832835961812.\n",
      "[I 2023-11-01 13:50:34,705] Trial 15 finished with value: 36.391171437302425 and parameters: {'x': 6.0325095472201635, 'y': 0}. Best is trial 12 with value: 34.21832835961812.\n",
      "[I 2023-11-01 13:50:34,709] Trial 16 finished with value: 46.14284201710632 and parameters: {'x': 6.718842312266773, 'y': 1}. Best is trial 12 with value: 34.21832835961812.\n",
      "[I 2023-11-01 13:50:34,712] Trial 17 finished with value: 3363.3844748227857 and parameters: {'x': -57.99469350572331, 'y': 0}. Best is trial 12 with value: 34.21832835961812.\n",
      "[I 2023-11-01 13:50:34,716] Trial 18 finished with value: 23.458780207934517 and parameters: {'x': -4.7390695508648655, 'y': 1}. Best is trial 18 with value: 23.458780207934517.\n",
      "[I 2023-11-01 13:50:34,719] Trial 19 finished with value: 43.09777849685375 and parameters: {'x': -6.488280087731551, 'y': 1}. Best is trial 18 with value: 23.458780207934517.\n",
      "[I 2023-11-01 13:50:34,723] Trial 20 finished with value: 482.03583466260693 and parameters: {'x': 21.932529144232475, 'y': 1}. Best is trial 18 with value: 23.458780207934517.\n",
      "[I 2023-11-01 13:50:34,723] Trial 21 finished with value: 17.312751053171763 and parameters: {'x': -4.038904684833719, 'y': 1}. Best is trial 21 with value: 17.312751053171763.\n",
      "[I 2023-11-01 13:50:34,727] Trial 22 finished with value: 114.51760770365095 and parameters: {'x': -10.654464214762324, 'y': 1}. Best is trial 21 with value: 17.312751053171763.\n",
      "[I 2023-11-01 13:50:34,733] Trial 23 finished with value: 9.948016268362425 and parameters: {'x': -2.9913234977786045, 'y': 1}. Best is trial 23 with value: 9.948016268362425.\n",
      "[I 2023-11-01 13:50:34,734] Trial 24 finished with value: 570.1287644384206 and parameters: {'x': -23.85641977410736, 'y': 1}. Best is trial 23 with value: 9.948016268362425.\n",
      "[I 2023-11-01 13:50:34,738] Trial 25 finished with value: 1432.0453295600707 and parameters: {'x': -37.82915977866903, 'y': 1}. Best is trial 23 with value: 9.948016268362425.\n",
      "[I 2023-11-01 13:50:34,742] Trial 26 finished with value: 39.69036261742432 and parameters: {'x': -6.220157764673202, 'y': 1}. Best is trial 23 with value: 9.948016268362425.\n",
      "[I 2023-11-01 13:50:34,749] Trial 27 finished with value: 493.5117318335147 and parameters: {'x': 22.237619742983167, 'y': -1}. Best is trial 23 with value: 9.948016268362425.\n",
      "[I 2023-11-01 13:50:34,754] Trial 28 finished with value: 162.86160503247146 and parameters: {'x': -12.722484231960024, 'y': 1}. Best is trial 23 with value: 9.948016268362425.\n",
      "[I 2023-11-01 13:50:34,758] Trial 29 finished with value: 2190.5358806530417 and parameters: {'x': 46.79247675271145, 'y': 1}. Best is trial 23 with value: 9.948016268362425.\n",
      "[I 2023-11-01 13:50:34,758] Trial 30 finished with value: 1.3262530403377668 and parameters: {'x': -0.5711856443729717, 'y': 1}. Best is trial 30 with value: 1.3262530403377668.\n",
      "[I 2023-11-01 13:50:34,762] Trial 31 finished with value: 4.599909163865263 and parameters: {'x': -1.8973426585267255, 'y': 1}. Best is trial 30 with value: 1.3262530403377668.\n",
      "[I 2023-11-01 13:50:34,771] Trial 32 finished with value: 656.951353555496 and parameters: {'x': -25.611547269844827, 'y': 1}. Best is trial 30 with value: 1.3262530403377668.\n",
      "[I 2023-11-01 13:50:34,772] Trial 33 finished with value: 259.81664767428657 and parameters: {'x': 16.087779451319147, 'y': 1}. Best is trial 30 with value: 1.3262530403377668.\n",
      "[I 2023-11-01 13:50:34,776] Trial 34 finished with value: 4.041263614642839 and parameters: {'x': 2.245275843775735, 'y': -1}. Best is trial 30 with value: 1.3262530403377668.\n",
      "[I 2023-11-01 13:50:34,780] Trial 35 finished with value: 1131.399375051983 and parameters: {'x': 33.65114225478807, 'y': -1}. Best is trial 30 with value: 1.3262530403377668.\n",
      "[I 2023-11-01 13:50:34,784] Trial 36 finished with value: 298.20632643683945 and parameters: {'x': -17.29758151987842, 'y': -1}. Best is trial 30 with value: 1.3262530403377668.\n",
      "[I 2023-11-01 13:50:34,788] Trial 37 finished with value: -0.047911445238079775 and parameters: {'x': 0.9757502522479409, 'y': -1}. Best is trial 37 with value: -0.047911445238079775.\n",
      "[I 2023-11-01 13:50:34,792] Trial 38 finished with value: 1042.4154330992826 and parameters: {'x': -32.30194163048535, 'y': -1}. Best is trial 37 with value: -0.047911445238079775.\n",
      "[I 2023-11-01 13:50:34,792] Trial 39 finished with value: 282.7319155345362 and parameters: {'x': 16.844343725254962, 'y': -1}. Best is trial 37 with value: -0.047911445238079775.\n",
      "[I 2023-11-01 13:50:34,796] Trial 40 finished with value: 771.6772570119957 and parameters: {'x': 27.797072813733386, 'y': -1}. Best is trial 37 with value: -0.047911445238079775.\n",
      "[I 2023-11-01 13:50:34,801] Trial 41 finished with value: -0.09409861898170147 and parameters: {'x': 0.9517885169607262, 'y': -1}. Best is trial 41 with value: -0.09409861898170147.\n",
      "[I 2023-11-01 13:50:34,804] Trial 42 finished with value: 9.251027041278167 and parameters: {'x': 3.2017225115987435, 'y': -1}. Best is trial 41 with value: -0.09409861898170147.\n",
      "[I 2023-11-01 13:50:34,808] Trial 43 finished with value: 364.05857347403725 and parameters: {'x': -19.106506050925095, 'y': -1}. Best is trial 41 with value: -0.09409861898170147.\n",
      "[I 2023-11-01 13:50:34,812] Trial 44 finished with value: 218.80964190552376 and parameters: {'x': 14.825978615441334, 'y': -1}. Best is trial 41 with value: -0.09409861898170147.\n",
      "[I 2023-11-01 13:50:34,816] Trial 45 finished with value: 5.3587263162445264 and parameters: {'x': 2.521651505709012, 'y': -1}. Best is trial 41 with value: -0.09409861898170147.\n",
      "[I 2023-11-01 13:50:34,819] Trial 46 finished with value: 315.2139245681515 and parameters: {'x': -17.78240491520063, 'y': -1}. Best is trial 41 with value: -0.09409861898170147.\n",
      "[I 2023-11-01 13:50:34,821] Trial 47 finished with value: 104.53889425514886 and parameters: {'x': 10.273212460333372, 'y': -1}. Best is trial 41 with value: -0.09409861898170147.\n",
      "[I 2023-11-01 13:50:34,825] Trial 48 finished with value: 0.2955705454153119 and parameters: {'x': 1.1382313233325254, 'y': -1}. Best is trial 41 with value: -0.09409861898170147.\n",
      "[I 2023-11-01 13:50:34,829] Trial 49 finished with value: 1862.5257699374777 and parameters: {'x': 43.1685738696274, 'y': -1}. Best is trial 41 with value: -0.09409861898170147.\n",
      "[I 2023-11-01 13:50:34,833] Trial 50 finished with value: 913.5826279147811 and parameters: {'x': 30.242067189839737, 'y': -1}. Best is trial 41 with value: -0.09409861898170147.\n",
      "[I 2023-11-01 13:50:34,836] Trial 51 finished with value: -0.014319355473007667 and parameters: {'x': -0.9928145066058374, 'y': -1}. Best is trial 41 with value: -0.09409861898170147.\n",
      "[I 2023-11-01 13:50:34,840] Trial 52 finished with value: 13.725965647507845 and parameters: {'x': 3.8374425920797623, 'y': -1}. Best is trial 41 with value: -0.09409861898170147.\n",
      "[I 2023-11-01 13:50:34,844] Trial 53 finished with value: 136.52208783003104 and parameters: {'x': -11.726981189975152, 'y': -1}. Best is trial 41 with value: -0.09409861898170147.\n",
      "[I 2023-11-01 13:50:34,848] Trial 54 finished with value: 411.7179566718213 and parameters: {'x': 20.31546102533293, 'y': -1}. Best is trial 41 with value: -0.09409861898170147.\n",
      "[I 2023-11-01 13:50:34,851] Trial 55 finished with value: 117.89071305177639 and parameters: {'x': 10.903701804973226, 'y': -1}. Best is trial 41 with value: -0.09409861898170147.\n",
      "[I 2023-11-01 13:50:34,852] Trial 56 finished with value: 6.740397248189507 and parameters: {'x': 2.7821569416892187, 'y': -1}. Best is trial 41 with value: -0.09409861898170147.\n",
      "[I 2023-11-01 13:50:34,856] Trial 57 finished with value: 145.24719860406486 and parameters: {'x': -12.093270798426076, 'y': -1}. Best is trial 41 with value: -0.09409861898170147.\n",
      "[I 2023-11-01 13:50:34,860] Trial 58 finished with value: 580.5047949405448 and parameters: {'x': 24.09366711276108, 'y': 0}. Best is trial 41 with value: -0.09409861898170147.\n",
      "[I 2023-11-01 13:50:34,864] Trial 59 finished with value: 116.74079566161873 and parameters: {'x': 10.850843085291517, 'y': -1}. Best is trial 41 with value: -0.09409861898170147.\n",
      "[I 2023-11-01 13:50:34,869] Trial 60 finished with value: 32.05394982814602 and parameters: {'x': -5.749256458721077, 'y': -1}. Best is trial 41 with value: -0.09409861898170147.\n",
      "[I 2023-11-01 13:50:34,873] Trial 61 finished with value: 0.4785064914285624 and parameters: {'x': -1.215938522882042, 'y': -1}. Best is trial 41 with value: -0.09409861898170147.\n",
      "[I 2023-11-01 13:50:34,874] Trial 62 finished with value: -0.6438052560943965 and parameters: {'x': -0.5968205290584461, 'y': -1}. Best is trial 62 with value: -0.6438052560943965.\n",
      "[I 2023-11-01 13:50:34,878] Trial 63 finished with value: 2.001348552563397 and parameters: {'x': -1.7324400574228815, 'y': -1}. Best is trial 62 with value: -0.6438052560943965.\n",
      "[I 2023-11-01 13:50:34,886] Trial 64 finished with value: 92.76980750876194 and parameters: {'x': 9.683481166851204, 'y': -1}. Best is trial 62 with value: -0.6438052560943965.\n",
      "[I 2023-11-01 13:50:34,890] Trial 65 finished with value: 598.3741422606013 and parameters: {'x': -24.46168723249893, 'y': 0}. Best is trial 62 with value: -0.6438052560943965.\n",
      "[I 2023-11-01 13:50:34,890] Trial 66 finished with value: 74.27743178793287 and parameters: {'x': -8.676256784347318, 'y': -1}. Best is trial 62 with value: -0.6438052560943965.\n",
      "[I 2023-11-01 13:50:34,894] Trial 67 finished with value: 211.82951747465947 and parameters: {'x': -14.588677715086432, 'y': -1}. Best is trial 62 with value: -0.6438052560943965.\n",
      "[I 2023-11-01 13:50:34,900] Trial 68 finished with value: 297.0808563128892 and parameters: {'x': 17.26501828301636, 'y': -1}. Best is trial 62 with value: -0.6438052560943965.\n",
      "[I 2023-11-01 13:50:34,903] Trial 69 finished with value: -0.4213448523023895 and parameters: {'x': -0.7606938593794553, 'y': -1}. Best is trial 62 with value: -0.6438052560943965.\n",
      "[I 2023-11-01 13:50:34,907] Trial 70 finished with value: 59.77295917266249 and parameters: {'x': -7.7957013265428845, 'y': -1}. Best is trial 62 with value: -0.6438052560943965.\n",
      "[I 2023-11-01 13:50:34,911] Trial 71 finished with value: -0.827654585775252 and parameters: {'x': -0.41514505202970686, 'y': -1}. Best is trial 71 with value: -0.827654585775252.\n",
      "[I 2023-11-01 13:50:34,915] Trial 72 finished with value: 37.48421268056198 and parameters: {'x': 6.203564514096874, 'y': -1}. Best is trial 71 with value: -0.827654585775252.\n",
      "[I 2023-11-01 13:50:34,920] Trial 73 finished with value: 6.324251309331606 and parameters: {'x': -2.706335402224123, 'y': -1}. Best is trial 71 with value: -0.827654585775252.\n",
      "[I 2023-11-01 13:50:34,923] Trial 74 finished with value: 217.34180513497625 and parameters: {'x': -14.776393509073053, 'y': -1}. Best is trial 71 with value: -0.827654585775252.\n",
      "[I 2023-11-01 13:50:34,927] Trial 75 finished with value: 2.5765148882116193 and parameters: {'x': -1.8911675991861798, 'y': -1}. Best is trial 71 with value: -0.827654585775252.\n",
      "[I 2023-11-01 13:50:34,931] Trial 76 finished with value: 212.05375272567136 and parameters: {'x': 14.596360941195972, 'y': -1}. Best is trial 71 with value: -0.827654585775252.\n",
      "[I 2023-11-01 13:50:34,935] Trial 77 finished with value: 473.97378722098756 and parameters: {'x': -21.79389334701323, 'y': -1}. Best is trial 71 with value: -0.827654585775252.\n",
      "[I 2023-11-01 13:50:34,939] Trial 78 finished with value: 60.07448775751254 and parameters: {'x': 7.750773365123802, 'y': 0}. Best is trial 71 with value: -0.827654585775252.\n",
      "[I 2023-11-01 13:50:34,943] Trial 79 finished with value: 79.18669445241143 and parameters: {'x': -8.9547023653727, 'y': -1}. Best is trial 71 with value: -0.827654585775252.\n",
      "[I 2023-11-01 13:50:34,947] Trial 80 finished with value: 394.5932014196252 and parameters: {'x': 19.88952491689093, 'y': -1}. Best is trial 71 with value: -0.827654585775252.\n",
      "[I 2023-11-01 13:50:34,951] Trial 81 finished with value: 0.1663481883606528 and parameters: {'x': -1.079976012863551, 'y': -1}. Best is trial 71 with value: -0.827654585775252.\n",
      "[I 2023-11-01 13:50:34,954] Trial 82 finished with value: 6.067110760037303 and parameters: {'x': 2.658403799282062, 'y': -1}. Best is trial 71 with value: -0.827654585775252.\n",
      "[I 2023-11-01 13:50:34,959] Trial 83 finished with value: -0.9940064525567153 and parameters: {'x': -0.07741800464546156, 'y': -1}. Best is trial 83 with value: -0.9940064525567153.\n",
      "[I 2023-11-01 13:50:34,962] Trial 84 finished with value: 41.09882818730525 and parameters: {'x': -6.48836097849875, 'y': -1}. Best is trial 83 with value: -0.9940064525567153.\n",
      "[I 2023-11-01 13:50:34,966] Trial 85 finished with value: 70.54995056162548 and parameters: {'x': 8.458720385591752, 'y': -1}. Best is trial 83 with value: -0.9940064525567153.\n",
      "[I 2023-11-01 13:50:34,967] Trial 86 finished with value: 190.68358560570522 and parameters: {'x': 13.844984131652344, 'y': -1}. Best is trial 83 with value: -0.9940064525567153.\n",
      "[I 2023-11-01 13:50:34,971] Trial 87 finished with value: 295.2642024184987 and parameters: {'x': -17.21232704832495, 'y': -1}. Best is trial 83 with value: -0.9940064525567153.\n",
      "[I 2023-11-01 13:50:34,975] Trial 88 finished with value: -0.8451640971284912 and parameters: {'x': 0.3934919349510341, 'y': -1}. Best is trial 83 with value: -0.9940064525567153.\n",
      "[I 2023-11-01 13:50:34,979] Trial 89 finished with value: 115.51996359124134 and parameters: {'x': -10.794441328352354, 'y': -1}. Best is trial 83 with value: -0.9940064525567153.\n",
      "[I 2023-11-01 13:50:34,985] Trial 90 finished with value: 18.474684536471056 and parameters: {'x': -4.41301309044864, 'y': -1}. Best is trial 83 with value: -0.9940064525567153.\n",
      "[I 2023-11-01 13:50:34,989] Trial 91 finished with value: 20.190290266114324 and parameters: {'x': 4.603291242808163, 'y': -1}. Best is trial 83 with value: -0.9940064525567153.\n",
      "[I 2023-11-01 13:50:34,993] Trial 92 finished with value: -0.8603989375193639 and parameters: {'x': 0.37363225567479585, 'y': -1}. Best is trial 83 with value: -0.9940064525567153.\n",
      "[I 2023-11-01 13:50:34,997] Trial 93 finished with value: 0.3398129819346547 and parameters: {'x': 1.157502907959481, 'y': -1}. Best is trial 83 with value: -0.9940064525567153.\n",
      "[I 2023-11-01 13:50:35,002] Trial 94 finished with value: 116.02876572806608 and parameters: {'x': 10.817983440922161, 'y': -1}. Best is trial 83 with value: -0.9940064525567153.\n",
      "[I 2023-11-01 13:50:35,006] Trial 95 finished with value: 47.35131096183525 and parameters: {'x': -6.953510693299842, 'y': -1}. Best is trial 83 with value: -0.9940064525567153.\n",
      "[I 2023-11-01 13:50:35,010] Trial 96 finished with value: 242.9748320916957 and parameters: {'x': -15.619693725924837, 'y': -1}. Best is trial 83 with value: -0.9940064525567153.\n",
      "[I 2023-11-01 13:50:35,014] Trial 97 finished with value: 35.20227690996127 and parameters: {'x': 5.933150673121429, 'y': 0}. Best is trial 83 with value: -0.9940064525567153.\n",
      "[I 2023-11-01 13:50:35,019] Trial 98 finished with value: -0.6161791227543538 and parameters: {'x': -0.6195327894838547, 'y': -1}. Best is trial 83 with value: -0.9940064525567153.\n",
      "[I 2023-11-01 13:50:35,023] Trial 99 finished with value: 194.757666686136 and parameters: {'x': 13.991342561960806, 'y': -1}. Best is trial 83 with value: -0.9940064525567153.\n"
     ]
    }
   ],
   "source": [
    "\n",
    "study.optimize(objective, n_trials=100)"
   ]
  },
  {
   "cell_type": "code",
   "execution_count": 5,
   "metadata": {},
   "outputs": [
    {
     "name": "stdout",
     "output_type": "stream",
     "text": [
      "Best value: -0.9940064525567153 (params: {'x': -0.07741800464546156, 'y': -1})\n"
     ]
    }
   ],
   "source": [
    "print(f\"Best value: {study.best_value} (params: {study.best_params})\")"
   ]
  },
  {
   "cell_type": "code",
   "execution_count": 6,
   "metadata": {},
   "outputs": [
    {
     "data": {
      "application/vnd.plotly.v1+json": {
       "config": {
        "plotlyServerURL": "https://plot.ly"
       },
       "data": [
        {
         "mode": "markers",
         "name": "Objective Value",
         "type": "scatter",
         "x": [
          0,
          1,
          2,
          3,
          4,
          5,
          6,
          7,
          8,
          9,
          10,
          11,
          12,
          13,
          14,
          15,
          16,
          17,
          18,
          19,
          20,
          21,
          22,
          23,
          24,
          25,
          26,
          27,
          28,
          29,
          30,
          31,
          32,
          33,
          34,
          35,
          36,
          37,
          38,
          39,
          40,
          41,
          42,
          43,
          44,
          45,
          46,
          47,
          48,
          49,
          50,
          51,
          52,
          53,
          54,
          55,
          56,
          57,
          58,
          59,
          60,
          61,
          62,
          63,
          64,
          65,
          66,
          67,
          68,
          69,
          70,
          71,
          72,
          73,
          74,
          75,
          76,
          77,
          78,
          79,
          80,
          81,
          82,
          83,
          84,
          85,
          86,
          87,
          88,
          89,
          90,
          91,
          92,
          93,
          94,
          95,
          96,
          97,
          98,
          99
         ],
         "y": [
          2279.250652367249,
          382.38991354631736,
          2595.3744866552097,
          979.9401473975163,
          1531.4450708265135,
          720.4711334511926,
          424.2284591727724,
          1254.9276223387255,
          3959.3999946139497,
          6895.160882445917,
          8493.609136524745,
          99.07715781638778,
          34.21832835961812,
          64.49355902333112,
          145.4859006497601,
          36.391171437302425,
          46.14284201710632,
          3363.3844748227857,
          23.458780207934517,
          43.09777849685375,
          482.03583466260693,
          17.312751053171763,
          114.51760770365095,
          9.948016268362425,
          570.1287644384206,
          1432.0453295600707,
          39.69036261742432,
          493.5117318335147,
          162.86160503247146,
          2190.5358806530417,
          1.3262530403377668,
          4.599909163865263,
          656.951353555496,
          259.81664767428657,
          4.041263614642839,
          1131.399375051983,
          298.20632643683945,
          -0.047911445238079775,
          1042.4154330992826,
          282.7319155345362,
          771.6772570119957,
          -0.09409861898170147,
          9.251027041278167,
          364.05857347403725,
          218.80964190552376,
          5.3587263162445264,
          315.2139245681515,
          104.53889425514886,
          0.2955705454153119,
          1862.5257699374777,
          913.5826279147811,
          -0.014319355473007667,
          13.725965647507845,
          136.52208783003104,
          411.7179566718213,
          117.89071305177639,
          6.740397248189507,
          145.24719860406486,
          580.5047949405448,
          116.74079566161873,
          32.05394982814602,
          0.4785064914285624,
          -0.6438052560943965,
          2.001348552563397,
          92.76980750876194,
          598.3741422606013,
          74.27743178793287,
          211.82951747465947,
          297.0808563128892,
          -0.4213448523023895,
          59.77295917266249,
          -0.827654585775252,
          37.48421268056198,
          6.324251309331606,
          217.34180513497625,
          2.5765148882116193,
          212.05375272567136,
          473.97378722098756,
          60.07448775751254,
          79.18669445241143,
          394.5932014196252,
          0.1663481883606528,
          6.067110760037303,
          -0.9940064525567153,
          41.09882818730525,
          70.54995056162548,
          190.68358560570522,
          295.2642024184987,
          -0.8451640971284912,
          115.51996359124134,
          18.474684536471056,
          20.190290266114324,
          -0.8603989375193639,
          0.3398129819346547,
          116.02876572806608,
          47.35131096183525,
          242.9748320916957,
          35.20227690996127,
          -0.6161791227543538,
          194.757666686136
         ]
        },
        {
         "mode": "lines",
         "name": "Best Value",
         "type": "scatter",
         "x": [
          0,
          1,
          2,
          3,
          4,
          5,
          6,
          7,
          8,
          9,
          10,
          11,
          12,
          13,
          14,
          15,
          16,
          17,
          18,
          19,
          20,
          21,
          22,
          23,
          24,
          25,
          26,
          27,
          28,
          29,
          30,
          31,
          32,
          33,
          34,
          35,
          36,
          37,
          38,
          39,
          40,
          41,
          42,
          43,
          44,
          45,
          46,
          47,
          48,
          49,
          50,
          51,
          52,
          53,
          54,
          55,
          56,
          57,
          58,
          59,
          60,
          61,
          62,
          63,
          64,
          65,
          66,
          67,
          68,
          69,
          70,
          71,
          72,
          73,
          74,
          75,
          76,
          77,
          78,
          79,
          80,
          81,
          82,
          83,
          84,
          85,
          86,
          87,
          88,
          89,
          90,
          91,
          92,
          93,
          94,
          95,
          96,
          97,
          98,
          99
         ],
         "y": [
          2279.250652367249,
          382.38991354631736,
          382.38991354631736,
          382.38991354631736,
          382.38991354631736,
          382.38991354631736,
          382.38991354631736,
          382.38991354631736,
          382.38991354631736,
          382.38991354631736,
          382.38991354631736,
          99.07715781638778,
          34.21832835961812,
          34.21832835961812,
          34.21832835961812,
          34.21832835961812,
          34.21832835961812,
          34.21832835961812,
          23.458780207934517,
          23.458780207934517,
          23.458780207934517,
          17.312751053171763,
          17.312751053171763,
          9.948016268362425,
          9.948016268362425,
          9.948016268362425,
          9.948016268362425,
          9.948016268362425,
          9.948016268362425,
          9.948016268362425,
          1.3262530403377668,
          1.3262530403377668,
          1.3262530403377668,
          1.3262530403377668,
          1.3262530403377668,
          1.3262530403377668,
          1.3262530403377668,
          -0.047911445238079775,
          -0.047911445238079775,
          -0.047911445238079775,
          -0.047911445238079775,
          -0.09409861898170147,
          -0.09409861898170147,
          -0.09409861898170147,
          -0.09409861898170147,
          -0.09409861898170147,
          -0.09409861898170147,
          -0.09409861898170147,
          -0.09409861898170147,
          -0.09409861898170147,
          -0.09409861898170147,
          -0.09409861898170147,
          -0.09409861898170147,
          -0.09409861898170147,
          -0.09409861898170147,
          -0.09409861898170147,
          -0.09409861898170147,
          -0.09409861898170147,
          -0.09409861898170147,
          -0.09409861898170147,
          -0.09409861898170147,
          -0.09409861898170147,
          -0.6438052560943965,
          -0.6438052560943965,
          -0.6438052560943965,
          -0.6438052560943965,
          -0.6438052560943965,
          -0.6438052560943965,
          -0.6438052560943965,
          -0.6438052560943965,
          -0.6438052560943965,
          -0.827654585775252,
          -0.827654585775252,
          -0.827654585775252,
          -0.827654585775252,
          -0.827654585775252,
          -0.827654585775252,
          -0.827654585775252,
          -0.827654585775252,
          -0.827654585775252,
          -0.827654585775252,
          -0.827654585775252,
          -0.827654585775252,
          -0.9940064525567153,
          -0.9940064525567153,
          -0.9940064525567153,
          -0.9940064525567153,
          -0.9940064525567153,
          -0.9940064525567153,
          -0.9940064525567153,
          -0.9940064525567153,
          -0.9940064525567153,
          -0.9940064525567153,
          -0.9940064525567153,
          -0.9940064525567153,
          -0.9940064525567153,
          -0.9940064525567153,
          -0.9940064525567153,
          -0.9940064525567153,
          -0.9940064525567153
         ]
        },
        {
         "marker": {
          "color": "#cccccc"
         },
         "mode": "markers",
         "name": "Infeasible Trial",
         "showlegend": false,
         "type": "scatter",
         "x": [],
         "y": []
        }
       ],
       "layout": {
        "template": {
         "data": {
          "bar": [
           {
            "error_x": {
             "color": "#2a3f5f"
            },
            "error_y": {
             "color": "#2a3f5f"
            },
            "marker": {
             "line": {
              "color": "#E5ECF6",
              "width": 0.5
             },
             "pattern": {
              "fillmode": "overlay",
              "size": 10,
              "solidity": 0.2
             }
            },
            "type": "bar"
           }
          ],
          "barpolar": [
           {
            "marker": {
             "line": {
              "color": "#E5ECF6",
              "width": 0.5
             },
             "pattern": {
              "fillmode": "overlay",
              "size": 10,
              "solidity": 0.2
             }
            },
            "type": "barpolar"
           }
          ],
          "carpet": [
           {
            "aaxis": {
             "endlinecolor": "#2a3f5f",
             "gridcolor": "white",
             "linecolor": "white",
             "minorgridcolor": "white",
             "startlinecolor": "#2a3f5f"
            },
            "baxis": {
             "endlinecolor": "#2a3f5f",
             "gridcolor": "white",
             "linecolor": "white",
             "minorgridcolor": "white",
             "startlinecolor": "#2a3f5f"
            },
            "type": "carpet"
           }
          ],
          "choropleth": [
           {
            "colorbar": {
             "outlinewidth": 0,
             "ticks": ""
            },
            "type": "choropleth"
           }
          ],
          "contour": [
           {
            "colorbar": {
             "outlinewidth": 0,
             "ticks": ""
            },
            "colorscale": [
             [
              0,
              "#0d0887"
             ],
             [
              0.1111111111111111,
              "#46039f"
             ],
             [
              0.2222222222222222,
              "#7201a8"
             ],
             [
              0.3333333333333333,
              "#9c179e"
             ],
             [
              0.4444444444444444,
              "#bd3786"
             ],
             [
              0.5555555555555556,
              "#d8576b"
             ],
             [
              0.6666666666666666,
              "#ed7953"
             ],
             [
              0.7777777777777778,
              "#fb9f3a"
             ],
             [
              0.8888888888888888,
              "#fdca26"
             ],
             [
              1,
              "#f0f921"
             ]
            ],
            "type": "contour"
           }
          ],
          "contourcarpet": [
           {
            "colorbar": {
             "outlinewidth": 0,
             "ticks": ""
            },
            "type": "contourcarpet"
           }
          ],
          "heatmap": [
           {
            "colorbar": {
             "outlinewidth": 0,
             "ticks": ""
            },
            "colorscale": [
             [
              0,
              "#0d0887"
             ],
             [
              0.1111111111111111,
              "#46039f"
             ],
             [
              0.2222222222222222,
              "#7201a8"
             ],
             [
              0.3333333333333333,
              "#9c179e"
             ],
             [
              0.4444444444444444,
              "#bd3786"
             ],
             [
              0.5555555555555556,
              "#d8576b"
             ],
             [
              0.6666666666666666,
              "#ed7953"
             ],
             [
              0.7777777777777778,
              "#fb9f3a"
             ],
             [
              0.8888888888888888,
              "#fdca26"
             ],
             [
              1,
              "#f0f921"
             ]
            ],
            "type": "heatmap"
           }
          ],
          "heatmapgl": [
           {
            "colorbar": {
             "outlinewidth": 0,
             "ticks": ""
            },
            "colorscale": [
             [
              0,
              "#0d0887"
             ],
             [
              0.1111111111111111,
              "#46039f"
             ],
             [
              0.2222222222222222,
              "#7201a8"
             ],
             [
              0.3333333333333333,
              "#9c179e"
             ],
             [
              0.4444444444444444,
              "#bd3786"
             ],
             [
              0.5555555555555556,
              "#d8576b"
             ],
             [
              0.6666666666666666,
              "#ed7953"
             ],
             [
              0.7777777777777778,
              "#fb9f3a"
             ],
             [
              0.8888888888888888,
              "#fdca26"
             ],
             [
              1,
              "#f0f921"
             ]
            ],
            "type": "heatmapgl"
           }
          ],
          "histogram": [
           {
            "marker": {
             "pattern": {
              "fillmode": "overlay",
              "size": 10,
              "solidity": 0.2
             }
            },
            "type": "histogram"
           }
          ],
          "histogram2d": [
           {
            "colorbar": {
             "outlinewidth": 0,
             "ticks": ""
            },
            "colorscale": [
             [
              0,
              "#0d0887"
             ],
             [
              0.1111111111111111,
              "#46039f"
             ],
             [
              0.2222222222222222,
              "#7201a8"
             ],
             [
              0.3333333333333333,
              "#9c179e"
             ],
             [
              0.4444444444444444,
              "#bd3786"
             ],
             [
              0.5555555555555556,
              "#d8576b"
             ],
             [
              0.6666666666666666,
              "#ed7953"
             ],
             [
              0.7777777777777778,
              "#fb9f3a"
             ],
             [
              0.8888888888888888,
              "#fdca26"
             ],
             [
              1,
              "#f0f921"
             ]
            ],
            "type": "histogram2d"
           }
          ],
          "histogram2dcontour": [
           {
            "colorbar": {
             "outlinewidth": 0,
             "ticks": ""
            },
            "colorscale": [
             [
              0,
              "#0d0887"
             ],
             [
              0.1111111111111111,
              "#46039f"
             ],
             [
              0.2222222222222222,
              "#7201a8"
             ],
             [
              0.3333333333333333,
              "#9c179e"
             ],
             [
              0.4444444444444444,
              "#bd3786"
             ],
             [
              0.5555555555555556,
              "#d8576b"
             ],
             [
              0.6666666666666666,
              "#ed7953"
             ],
             [
              0.7777777777777778,
              "#fb9f3a"
             ],
             [
              0.8888888888888888,
              "#fdca26"
             ],
             [
              1,
              "#f0f921"
             ]
            ],
            "type": "histogram2dcontour"
           }
          ],
          "mesh3d": [
           {
            "colorbar": {
             "outlinewidth": 0,
             "ticks": ""
            },
            "type": "mesh3d"
           }
          ],
          "parcoords": [
           {
            "line": {
             "colorbar": {
              "outlinewidth": 0,
              "ticks": ""
             }
            },
            "type": "parcoords"
           }
          ],
          "pie": [
           {
            "automargin": true,
            "type": "pie"
           }
          ],
          "scatter": [
           {
            "fillpattern": {
             "fillmode": "overlay",
             "size": 10,
             "solidity": 0.2
            },
            "type": "scatter"
           }
          ],
          "scatter3d": [
           {
            "line": {
             "colorbar": {
              "outlinewidth": 0,
              "ticks": ""
             }
            },
            "marker": {
             "colorbar": {
              "outlinewidth": 0,
              "ticks": ""
             }
            },
            "type": "scatter3d"
           }
          ],
          "scattercarpet": [
           {
            "marker": {
             "colorbar": {
              "outlinewidth": 0,
              "ticks": ""
             }
            },
            "type": "scattercarpet"
           }
          ],
          "scattergeo": [
           {
            "marker": {
             "colorbar": {
              "outlinewidth": 0,
              "ticks": ""
             }
            },
            "type": "scattergeo"
           }
          ],
          "scattergl": [
           {
            "marker": {
             "colorbar": {
              "outlinewidth": 0,
              "ticks": ""
             }
            },
            "type": "scattergl"
           }
          ],
          "scattermapbox": [
           {
            "marker": {
             "colorbar": {
              "outlinewidth": 0,
              "ticks": ""
             }
            },
            "type": "scattermapbox"
           }
          ],
          "scatterpolar": [
           {
            "marker": {
             "colorbar": {
              "outlinewidth": 0,
              "ticks": ""
             }
            },
            "type": "scatterpolar"
           }
          ],
          "scatterpolargl": [
           {
            "marker": {
             "colorbar": {
              "outlinewidth": 0,
              "ticks": ""
             }
            },
            "type": "scatterpolargl"
           }
          ],
          "scatterternary": [
           {
            "marker": {
             "colorbar": {
              "outlinewidth": 0,
              "ticks": ""
             }
            },
            "type": "scatterternary"
           }
          ],
          "surface": [
           {
            "colorbar": {
             "outlinewidth": 0,
             "ticks": ""
            },
            "colorscale": [
             [
              0,
              "#0d0887"
             ],
             [
              0.1111111111111111,
              "#46039f"
             ],
             [
              0.2222222222222222,
              "#7201a8"
             ],
             [
              0.3333333333333333,
              "#9c179e"
             ],
             [
              0.4444444444444444,
              "#bd3786"
             ],
             [
              0.5555555555555556,
              "#d8576b"
             ],
             [
              0.6666666666666666,
              "#ed7953"
             ],
             [
              0.7777777777777778,
              "#fb9f3a"
             ],
             [
              0.8888888888888888,
              "#fdca26"
             ],
             [
              1,
              "#f0f921"
             ]
            ],
            "type": "surface"
           }
          ],
          "table": [
           {
            "cells": {
             "fill": {
              "color": "#EBF0F8"
             },
             "line": {
              "color": "white"
             }
            },
            "header": {
             "fill": {
              "color": "#C8D4E3"
             },
             "line": {
              "color": "white"
             }
            },
            "type": "table"
           }
          ]
         },
         "layout": {
          "annotationdefaults": {
           "arrowcolor": "#2a3f5f",
           "arrowhead": 0,
           "arrowwidth": 1
          },
          "autotypenumbers": "strict",
          "coloraxis": {
           "colorbar": {
            "outlinewidth": 0,
            "ticks": ""
           }
          },
          "colorscale": {
           "diverging": [
            [
             0,
             "#8e0152"
            ],
            [
             0.1,
             "#c51b7d"
            ],
            [
             0.2,
             "#de77ae"
            ],
            [
             0.3,
             "#f1b6da"
            ],
            [
             0.4,
             "#fde0ef"
            ],
            [
             0.5,
             "#f7f7f7"
            ],
            [
             0.6,
             "#e6f5d0"
            ],
            [
             0.7,
             "#b8e186"
            ],
            [
             0.8,
             "#7fbc41"
            ],
            [
             0.9,
             "#4d9221"
            ],
            [
             1,
             "#276419"
            ]
           ],
           "sequential": [
            [
             0,
             "#0d0887"
            ],
            [
             0.1111111111111111,
             "#46039f"
            ],
            [
             0.2222222222222222,
             "#7201a8"
            ],
            [
             0.3333333333333333,
             "#9c179e"
            ],
            [
             0.4444444444444444,
             "#bd3786"
            ],
            [
             0.5555555555555556,
             "#d8576b"
            ],
            [
             0.6666666666666666,
             "#ed7953"
            ],
            [
             0.7777777777777778,
             "#fb9f3a"
            ],
            [
             0.8888888888888888,
             "#fdca26"
            ],
            [
             1,
             "#f0f921"
            ]
           ],
           "sequentialminus": [
            [
             0,
             "#0d0887"
            ],
            [
             0.1111111111111111,
             "#46039f"
            ],
            [
             0.2222222222222222,
             "#7201a8"
            ],
            [
             0.3333333333333333,
             "#9c179e"
            ],
            [
             0.4444444444444444,
             "#bd3786"
            ],
            [
             0.5555555555555556,
             "#d8576b"
            ],
            [
             0.6666666666666666,
             "#ed7953"
            ],
            [
             0.7777777777777778,
             "#fb9f3a"
            ],
            [
             0.8888888888888888,
             "#fdca26"
            ],
            [
             1,
             "#f0f921"
            ]
           ]
          },
          "colorway": [
           "#636efa",
           "#EF553B",
           "#00cc96",
           "#ab63fa",
           "#FFA15A",
           "#19d3f3",
           "#FF6692",
           "#B6E880",
           "#FF97FF",
           "#FECB52"
          ],
          "font": {
           "color": "#2a3f5f"
          },
          "geo": {
           "bgcolor": "white",
           "lakecolor": "white",
           "landcolor": "#E5ECF6",
           "showlakes": true,
           "showland": true,
           "subunitcolor": "white"
          },
          "hoverlabel": {
           "align": "left"
          },
          "hovermode": "closest",
          "mapbox": {
           "style": "light"
          },
          "paper_bgcolor": "white",
          "plot_bgcolor": "#E5ECF6",
          "polar": {
           "angularaxis": {
            "gridcolor": "white",
            "linecolor": "white",
            "ticks": ""
           },
           "bgcolor": "#E5ECF6",
           "radialaxis": {
            "gridcolor": "white",
            "linecolor": "white",
            "ticks": ""
           }
          },
          "scene": {
           "xaxis": {
            "backgroundcolor": "#E5ECF6",
            "gridcolor": "white",
            "gridwidth": 2,
            "linecolor": "white",
            "showbackground": true,
            "ticks": "",
            "zerolinecolor": "white"
           },
           "yaxis": {
            "backgroundcolor": "#E5ECF6",
            "gridcolor": "white",
            "gridwidth": 2,
            "linecolor": "white",
            "showbackground": true,
            "ticks": "",
            "zerolinecolor": "white"
           },
           "zaxis": {
            "backgroundcolor": "#E5ECF6",
            "gridcolor": "white",
            "gridwidth": 2,
            "linecolor": "white",
            "showbackground": true,
            "ticks": "",
            "zerolinecolor": "white"
           }
          },
          "shapedefaults": {
           "line": {
            "color": "#2a3f5f"
           }
          },
          "ternary": {
           "aaxis": {
            "gridcolor": "white",
            "linecolor": "white",
            "ticks": ""
           },
           "baxis": {
            "gridcolor": "white",
            "linecolor": "white",
            "ticks": ""
           },
           "bgcolor": "#E5ECF6",
           "caxis": {
            "gridcolor": "white",
            "linecolor": "white",
            "ticks": ""
           }
          },
          "title": {
           "x": 0.05
          },
          "xaxis": {
           "automargin": true,
           "gridcolor": "white",
           "linecolor": "white",
           "ticks": "",
           "title": {
            "standoff": 15
           },
           "zerolinecolor": "white",
           "zerolinewidth": 2
          },
          "yaxis": {
           "automargin": true,
           "gridcolor": "white",
           "linecolor": "white",
           "ticks": "",
           "title": {
            "standoff": 15
           },
           "zerolinecolor": "white",
           "zerolinewidth": 2
          }
         }
        },
        "title": {
         "text": "Optimization History Plot"
        },
        "xaxis": {
         "title": {
          "text": "Trial"
         }
        },
        "yaxis": {
         "title": {
          "text": "Objective Value"
         }
        }
       }
      }
     },
     "metadata": {},
     "output_type": "display_data"
    }
   ],
   "source": [
    "optuna.visualization.plot_optimization_history(study)"
   ]
  }
 ],
 "metadata": {
  "kernelspec": {
   "display_name": "reinfocus",
   "language": "python",
   "name": "python3"
  },
  "language_info": {
   "codemirror_mode": {
    "name": "ipython",
    "version": 3
   },
   "file_extension": ".py",
   "mimetype": "text/x-python",
   "name": "python",
   "nbconvert_exporter": "python",
   "pygments_lexer": "ipython3",
   "version": "3.11.5"
  }
 },
 "nbformat": 4,
 "nbformat_minor": 2
}
