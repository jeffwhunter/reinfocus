{
 "cells": [
  {
   "cell_type": "code",
   "execution_count": 1,
   "metadata": {},
   "outputs": [
    {
     "name": "stderr",
     "output_type": "stream",
     "text": [
      "c:\\Users\\jhunt\\miniconda3\\envs\\reinfocus\\Lib\\site-packages\\tqdm\\auto.py:21: TqdmWarning: IProgress not found. Please update jupyter and ipywidgets. See https://ipywidgets.readthedocs.io/en/stable/user_install.html\n",
      "  from .autonotebook import tqdm as notebook_tqdm\n"
     ]
    }
   ],
   "source": [
    "import optuna"
   ]
  },
  {
   "cell_type": "code",
   "execution_count": 2,
   "metadata": {},
   "outputs": [],
   "source": [
    "def objective(trial):\n",
    "    x = trial.suggest_float(\"x\", -100, 100)\n",
    "    y = trial.suggest_categorical(\"y\", [-1, 0, 1])\n",
    "    return x ** 2 + y"
   ]
  },
  {
   "cell_type": "code",
   "execution_count": 3,
   "metadata": {},
   "outputs": [
    {
     "name": "stderr",
     "output_type": "stream",
     "text": [
      "[I 2023-11-01 13:42:12,767] A new study created in memory with name: no-name-f4480003-f440-4328-ac69-520be0328fb3\n"
     ]
    }
   ],
   "source": [
    "study = optuna.create_study()"
   ]
  },
  {
   "cell_type": "code",
   "execution_count": 4,
   "metadata": {},
   "outputs": [
    {
     "name": "stderr",
     "output_type": "stream",
     "text": [
      "[I 2023-11-01 13:42:12,773] Trial 0 finished with value: 6233.639747202077 and parameters: {'x': -78.9597349742391, 'y': -1}. Best is trial 0 with value: 6233.639747202077.\n",
      "[I 2023-11-01 13:42:12,773] Trial 1 finished with value: 1265.897247775904 and parameters: {'x': 35.57944979585693, 'y': 0}. Best is trial 1 with value: 1265.897247775904.\n",
      "[I 2023-11-01 13:42:12,774] Trial 2 finished with value: 9499.178832444282 and parameters: {'x': 97.46373085637694, 'y': 0}. Best is trial 1 with value: 1265.897247775904.\n",
      "[I 2023-11-01 13:42:12,775] Trial 3 finished with value: 3445.2499295519933 and parameters: {'x': 58.70476922322405, 'y': -1}. Best is trial 1 with value: 1265.897247775904.\n",
      "[I 2023-11-01 13:42:12,775] Trial 4 finished with value: 948.1250551022437 and parameters: {'x': 30.775396912180412, 'y': 1}. Best is trial 4 with value: 948.1250551022437.\n",
      "[I 2023-11-01 13:42:12,776] Trial 5 finished with value: 3933.5155972430825 and parameters: {'x': 62.717745473215814, 'y': 0}. Best is trial 4 with value: 948.1250551022437.\n",
      "[I 2023-11-01 13:42:12,777] Trial 6 finished with value: 868.4135298991812 and parameters: {'x': -29.451884997384823, 'y': 1}. Best is trial 6 with value: 868.4135298991812.\n",
      "[I 2023-11-01 13:42:12,778] Trial 7 finished with value: 626.8269203546025 and parameters: {'x': 25.036511744941677, 'y': 0}. Best is trial 7 with value: 626.8269203546025.\n",
      "[I 2023-11-01 13:42:12,779] Trial 8 finished with value: 2501.672679772785 and parameters: {'x': 50.01672400080582, 'y': 0}. Best is trial 7 with value: 626.8269203546025.\n",
      "[I 2023-11-01 13:42:12,780] Trial 9 finished with value: 1609.6739947743788 and parameters: {'x': -40.12074269968564, 'y': 0}. Best is trial 7 with value: 626.8269203546025.\n",
      "[I 2023-11-01 13:42:12,784] Trial 10 finished with value: 14.052996397233082 and parameters: {'x': -3.8798191191385563, 'y': -1}. Best is trial 10 with value: 14.052996397233082.\n",
      "[I 2023-11-01 13:42:12,787] Trial 11 finished with value: 6.881269173124373 and parameters: {'x': 2.8073598225244254, 'y': -1}. Best is trial 11 with value: 6.881269173124373.\n",
      "[I 2023-11-01 13:42:12,791] Trial 12 finished with value: 10.628195004569536 and parameters: {'x': -3.4100139302603347, 'y': -1}. Best is trial 11 with value: 6.881269173124373.\n",
      "[I 2023-11-01 13:42:12,794] Trial 13 finished with value: -0.9999721854361923 and parameters: {'x': -0.00527395144154541, 'y': -1}. Best is trial 13 with value: -0.9999721854361923.\n",
      "[I 2023-11-01 13:42:12,799] Trial 14 finished with value: 672.1288240211741 and parameters: {'x': -25.94472632388274, 'y': -1}. Best is trial 13 with value: -0.9999721854361923.\n",
      "[I 2023-11-01 13:42:12,804] Trial 15 finished with value: 182.5286352693884 and parameters: {'x': 13.547274089992731, 'y': -1}. Best is trial 13 with value: -0.9999721854361923.\n",
      "[I 2023-11-01 13:42:12,807] Trial 16 finished with value: 3382.206531507911 and parameters: {'x': -58.16533788699169, 'y': -1}. Best is trial 13 with value: -0.9999721854361923.\n",
      "[I 2023-11-01 13:42:12,810] Trial 17 finished with value: 9170.683956550569 and parameters: {'x': -95.75846676169459, 'y': 1}. Best is trial 13 with value: -0.9999721854361923.\n",
      "[I 2023-11-01 13:42:12,813] Trial 18 finished with value: 20.331074253645134 and parameters: {'x': -4.618557594492585, 'y': -1}. Best is trial 13 with value: -0.9999721854361923.\n",
      "[I 2023-11-01 13:42:12,816] Trial 19 finished with value: 59.75153252944672 and parameters: {'x': 7.794326945249777, 'y': -1}. Best is trial 13 with value: -0.9999721854361923.\n",
      "[I 2023-11-01 13:42:12,819] Trial 20 finished with value: 252.88723810845377 and parameters: {'x': -15.933839402618998, 'y': -1}. Best is trial 13 with value: -0.9999721854361923.\n",
      "[I 2023-11-01 13:42:12,822] Trial 21 finished with value: 40.49666795283573 and parameters: {'x': -6.4417907411554225, 'y': -1}. Best is trial 13 with value: -0.9999721854361923.\n",
      "[I 2023-11-01 13:42:12,824] Trial 22 finished with value: 118.99638867357972 and parameters: {'x': 10.954286315117919, 'y': -1}. Best is trial 13 with value: -0.9999721854361923.\n",
      "[I 2023-11-01 13:42:12,827] Trial 23 finished with value: 1677.099352032847 and parameters: {'x': -40.96461097133533, 'y': -1}. Best is trial 13 with value: -0.9999721854361923.\n",
      "[I 2023-11-01 13:42:12,830] Trial 24 finished with value: 371.45831856918755 and parameters: {'x': -19.299179220090878, 'y': -1}. Best is trial 13 with value: -0.9999721854361923.\n",
      "[I 2023-11-01 13:42:12,832] Trial 25 finished with value: 22.013777856541232 and parameters: {'x': 4.584078735857537, 'y': 1}. Best is trial 13 with value: -0.9999721854361923.\n",
      "[I 2023-11-01 13:42:12,836] Trial 26 finished with value: 379.1976813987677 and parameters: {'x': 19.498658451256787, 'y': -1}. Best is trial 13 with value: -0.9999721854361923.\n",
      "[I 2023-11-01 13:42:12,838] Trial 27 finished with value: 228.3315748511721 and parameters: {'x': -15.143697529043958, 'y': -1}. Best is trial 13 with value: -0.9999721854361923.\n",
      "[I 2023-11-01 13:42:12,841] Trial 28 finished with value: 9.963278800618165 and parameters: {'x': 3.3110842333921626, 'y': -1}. Best is trial 13 with value: -0.9999721854361923.\n",
      "[I 2023-11-01 13:42:12,844] Trial 29 finished with value: 3275.6499048500873 and parameters: {'x': -57.24202918180039, 'y': -1}. Best is trial 13 with value: -0.9999721854361923.\n",
      "[I 2023-11-01 13:42:12,847] Trial 30 finished with value: 292.449092318822 and parameters: {'x': 17.071880163556152, 'y': 1}. Best is trial 13 with value: -0.9999721854361923.\n",
      "[I 2023-11-01 13:42:12,849] Trial 31 finished with value: -0.5479612343097192 and parameters: {'x': -0.6723382821841106, 'y': -1}. Best is trial 13 with value: -0.9999721854361923.\n",
      "[I 2023-11-01 13:42:12,853] Trial 32 finished with value: 1281.0212775983202 and parameters: {'x': 35.805324710136624, 'y': -1}. Best is trial 13 with value: -0.9999721854361923.\n",
      "[I 2023-11-01 13:42:12,855] Trial 33 finished with value: 8.345204539236127 and parameters: {'x': 3.05699272803128, 'y': -1}. Best is trial 13 with value: -0.9999721854361923.\n",
      "[I 2023-11-01 13:42:12,858] Trial 34 finished with value: 508.4796062419049 and parameters: {'x': 22.57165492917843, 'y': -1}. Best is trial 13 with value: -0.9999721854361923.\n",
      "[I 2023-11-01 13:42:12,861] Trial 35 finished with value: 121.40776600509325 and parameters: {'x': -11.063804318817883, 'y': -1}. Best is trial 13 with value: -0.9999721854361923.\n",
      "[I 2023-11-01 13:42:12,864] Trial 36 finished with value: 1522.9908364595178 and parameters: {'x': 39.03832522610976, 'y': -1}. Best is trial 13 with value: -0.9999721854361923.\n",
      "[I 2023-11-01 13:42:12,867] Trial 37 finished with value: 69.34217250197528 and parameters: {'x': 8.327194755857178, 'y': 0}. Best is trial 13 with value: -0.9999721854361923.\n",
      "[I 2023-11-01 13:42:12,870] Trial 38 finished with value: 975.0161996015964 and parameters: {'x': 31.241257970856367, 'y': -1}. Best is trial 13 with value: -0.9999721854361923.\n",
      "[I 2023-11-01 13:42:12,873] Trial 39 finished with value: 2.002812810152009 and parameters: {'x': 1.0014054174768623, 'y': 1}. Best is trial 13 with value: -0.9999721854361923.\n",
      "[I 2023-11-01 13:42:12,876] Trial 40 finished with value: 665.0972071238849 and parameters: {'x': -25.77008356843037, 'y': 1}. Best is trial 13 with value: -0.9999721854361923.\n",
      "[I 2023-11-01 13:42:12,878] Trial 41 finished with value: 4.848450996394524 and parameters: {'x': 1.9617469246552992, 'y': 1}. Best is trial 13 with value: -0.9999721854361923.\n",
      "[I 2023-11-01 13:42:12,881] Trial 42 finished with value: 84.46059362187755 and parameters: {'x': -9.13567696571401, 'y': 1}. Best is trial 13 with value: -0.9999721854361923.\n",
      "[I 2023-11-01 13:42:12,884] Trial 43 finished with value: 295.0822824614257 and parameters: {'x': 17.148827436924826, 'y': 1}. Best is trial 13 with value: -0.9999721854361923.\n",
      "[I 2023-11-01 13:42:12,887] Trial 44 finished with value: 5.246380463870509 and parameters: {'x': -2.0606747593617265, 'y': 1}. Best is trial 13 with value: -0.9999721854361923.\n",
      "[I 2023-11-01 13:42:12,890] Trial 45 finished with value: 14.263779480485757 and parameters: {'x': -3.6419472100080963, 'y': 1}. Best is trial 13 with value: -0.9999721854361923.\n",
      "[I 2023-11-01 13:42:12,893] Trial 46 finished with value: 665.0933039149643 and parameters: {'x': 25.770007836920893, 'y': 1}. Best is trial 13 with value: -0.9999721854361923.\n",
      "[I 2023-11-01 13:42:12,898] Trial 47 finished with value: 305.5186236984974 and parameters: {'x': -17.45046199097598, 'y': 1}. Best is trial 13 with value: -0.9999721854361923.\n",
      "[I 2023-11-01 13:42:12,902] Trial 48 finished with value: 140.29838585521063 and parameters: {'x': 11.802473717624226, 'y': 1}. Best is trial 13 with value: -0.9999721854361923.\n",
      "[I 2023-11-01 13:42:12,906] Trial 49 finished with value: 1766.06423165042 and parameters: {'x': 42.01266751410127, 'y': 1}. Best is trial 13 with value: -0.9999721854361923.\n",
      "[I 2023-11-01 13:42:12,910] Trial 50 finished with value: 756.1919628091841 and parameters: {'x': 27.480756227025196, 'y': 1}. Best is trial 13 with value: -0.9999721854361923.\n",
      "[I 2023-11-01 13:42:12,913] Trial 51 finished with value: 0.7118224118100286 and parameters: {'x': 0.8436956867319096, 'y': 0}. Best is trial 13 with value: -0.9999721854361923.\n",
      "[I 2023-11-01 13:42:12,916] Trial 52 finished with value: 0.05675724737900214 and parameters: {'x': -0.23823779586581584, 'y': 0}. Best is trial 13 with value: -0.9999721854361923.\n",
      "[I 2023-11-01 13:42:12,920] Trial 53 finished with value: 110.96879622073983 and parameters: {'x': -10.534172782935537, 'y': 0}. Best is trial 13 with value: -0.9999721854361923.\n",
      "[I 2023-11-01 13:42:12,923] Trial 54 finished with value: 160.89497683644677 and parameters: {'x': 12.684438372921631, 'y': 0}. Best is trial 13 with value: -0.9999721854361923.\n",
      "[I 2023-11-01 13:42:12,926] Trial 55 finished with value: 6.275584778968161 and parameters: {'x': 2.5051117298372465, 'y': 0}. Best is trial 13 with value: -0.9999721854361923.\n",
      "[I 2023-11-01 13:42:12,929] Trial 56 finished with value: 568.7931600543526 and parameters: {'x': -23.849384898867992, 'y': 0}. Best is trial 13 with value: -0.9999721854361923.\n",
      "[I 2023-11-01 13:42:12,931] Trial 57 finished with value: 47.903259334259225 and parameters: {'x': -6.921218052789496, 'y': 0}. Best is trial 13 with value: -0.9999721854361923.\n",
      "[I 2023-11-01 13:42:12,935] Trial 58 finished with value: 0.21095589762659908 and parameters: {'x': 0.45929935513409886, 'y': 0}. Best is trial 13 with value: -0.9999721854361923.\n",
      "[I 2023-11-01 13:42:12,938] Trial 59 finished with value: 1054.2147336575702 and parameters: {'x': -32.46867311205634, 'y': 0}. Best is trial 13 with value: -0.9999721854361923.\n",
      "[I 2023-11-01 13:42:12,941] Trial 60 finished with value: 165.38492915004878 and parameters: {'x': 12.860207197010816, 'y': 0}. Best is trial 13 with value: -0.9999721854361923.\n",
      "[I 2023-11-01 13:42:12,944] Trial 61 finished with value: 0.6602420255404603 and parameters: {'x': 0.8125527832334711, 'y': 0}. Best is trial 13 with value: -0.9999721854361923.\n",
      "[I 2023-11-01 13:42:12,946] Trial 62 finished with value: 2.4143840886048236 and parameters: {'x': -1.5538288479124152, 'y': 0}. Best is trial 13 with value: -0.9999721854361923.\n",
      "[I 2023-11-01 13:42:12,949] Trial 63 finished with value: 61.652660047515475 and parameters: {'x': 7.851920787139633, 'y': 0}. Best is trial 13 with value: -0.9999721854361923.\n",
      "[I 2023-11-01 13:42:12,953] Trial 64 finished with value: 154.5843079293102 and parameters: {'x': -12.433193794408185, 'y': 0}. Best is trial 13 with value: -0.9999721854361923.\n",
      "[I 2023-11-01 13:42:12,956] Trial 65 finished with value: 450.772131721487 and parameters: {'x': 21.23139495467707, 'y': 0}. Best is trial 13 with value: -0.9999721854361923.\n",
      "[I 2023-11-01 13:42:12,959] Trial 66 finished with value: 22.572405745221463 and parameters: {'x': -4.751042595601671, 'y': 0}. Best is trial 13 with value: -0.9999721854361923.\n",
      "[I 2023-11-01 13:42:12,962] Trial 67 finished with value: 286.68851852913497 and parameters: {'x': -16.93187876548657, 'y': 0}. Best is trial 13 with value: -0.9999721854361923.\n",
      "[I 2023-11-01 13:42:12,965] Trial 68 finished with value: 41.131113954362 and parameters: {'x': 6.413354344986873, 'y': 0}. Best is trial 13 with value: -0.9999721854361923.\n",
      "[I 2023-11-01 13:42:12,968] Trial 69 finished with value: 309.89603508046264 and parameters: {'x': 17.603864208760037, 'y': 0}. Best is trial 13 with value: -0.9999721854361923.\n",
      "[I 2023-11-01 13:42:12,972] Trial 70 finished with value: 0.2201699880663678 and parameters: {'x': 0.4692227488798554, 'y': 0}. Best is trial 13 with value: -0.9999721854361923.\n",
      "[I 2023-11-01 13:42:12,975] Trial 71 finished with value: 0.07452142832542193 and parameters: {'x': -0.27298613211191136, 'y': 0}. Best is trial 13 with value: -0.9999721854361923.\n",
      "[I 2023-11-01 13:42:12,978] Trial 72 finished with value: 82.85845123450706 and parameters: {'x': -9.102661766456395, 'y': 0}. Best is trial 13 with value: -0.9999721854361923.\n",
      "[I 2023-11-01 13:42:12,981] Trial 73 finished with value: 61.27724869091671 and parameters: {'x': 7.827978582681273, 'y': 0}. Best is trial 13 with value: -0.9999721854361923.\n",
      "[I 2023-11-01 13:42:12,984] Trial 74 finished with value: 1.1031067611916134 and parameters: {'x': -1.05028889415799, 'y': 0}. Best is trial 13 with value: -0.9999721854361923.\n",
      "[I 2023-11-01 13:42:12,988] Trial 75 finished with value: 422.34146541318034 and parameters: {'x': -20.55094804171283, 'y': 0}. Best is trial 13 with value: -0.9999721854361923.\n",
      "[I 2023-11-01 13:42:12,991] Trial 76 finished with value: 241.5939731331548 and parameters: {'x': -15.543293509843878, 'y': 0}. Best is trial 13 with value: -0.9999721854361923.\n",
      "[I 2023-11-01 13:42:12,994] Trial 77 finished with value: 46.883527534959626 and parameters: {'x': -6.847154703594744, 'y': 0}. Best is trial 13 with value: -0.9999721854361923.\n",
      "[I 2023-11-01 13:42:12,997] Trial 78 finished with value: 26.794028325229544 and parameters: {'x': 5.17629484527587, 'y': 0}. Best is trial 13 with value: -0.9999721854361923.\n",
      "[I 2023-11-01 13:42:13,001] Trial 79 finished with value: 138.63717461499553 and parameters: {'x': 11.774428844534054, 'y': 0}. Best is trial 13 with value: -0.9999721854361923.\n",
      "[I 2023-11-01 13:42:13,004] Trial 80 finished with value: 282.7376843516154 and parameters: {'x': 16.81480551037137, 'y': 0}. Best is trial 13 with value: -0.9999721854361923.\n",
      "[I 2023-11-01 13:42:13,007] Trial 81 finished with value: 0.051110462273060146 and parameters: {'x': 0.22607623111034947, 'y': 0}. Best is trial 13 with value: -0.9999721854361923.\n",
      "[I 2023-11-01 13:42:13,010] Trial 82 finished with value: 2.4459507298116305 and parameters: {'x': -1.563953557434373, 'y': 0}. Best is trial 13 with value: -0.9999721854361923.\n",
      "[I 2023-11-01 13:42:13,014] Trial 83 finished with value: 148.03109662237452 and parameters: {'x': -12.166803056776029, 'y': 0}. Best is trial 13 with value: -0.9999721854361923.\n",
      "[I 2023-11-01 13:42:13,018] Trial 84 finished with value: 4.296495635323151 and parameters: {'x': 2.0727989857492575, 'y': 0}. Best is trial 13 with value: -0.9999721854361923.\n",
      "[I 2023-11-01 13:42:13,022] Trial 85 finished with value: 42.69686684174696 and parameters: {'x': -6.6103605682101, 'y': -1}. Best is trial 13 with value: -0.9999721854361923.\n",
      "[I 2023-11-01 13:42:13,025] Trial 86 finished with value: 14.479800101370104 and parameters: {'x': 3.805233251900612, 'y': 0}. Best is trial 13 with value: -0.9999721854361923.\n",
      "[I 2023-11-01 13:42:13,028] Trial 87 finished with value: 70.42080646727747 and parameters: {'x': 8.391710580523942, 'y': 0}. Best is trial 13 with value: -0.9999721854361923.\n",
      "[I 2023-11-01 13:42:13,031] Trial 88 finished with value: 437.64996905123206 and parameters: {'x': 20.943972141196905, 'y': -1}. Best is trial 13 with value: -0.9999721854361923.\n",
      "[I 2023-11-01 13:42:13,035] Trial 89 finished with value: 162.8001928516956 and parameters: {'x': -12.75931788348012, 'y': 0}. Best is trial 13 with value: -0.9999721854361923.\n",
      "[I 2023-11-01 13:42:13,038] Trial 90 finished with value: 5.278910898395584 and parameters: {'x': -2.505775508379708, 'y': -1}. Best is trial 13 with value: -0.9999721854361923.\n",
      "[I 2023-11-01 13:42:13,042] Trial 91 finished with value: 0.11381283259891332 and parameters: {'x': -0.3373615754630532, 'y': 0}. Best is trial 13 with value: -0.9999721854361923.\n",
      "[I 2023-11-01 13:42:13,045] Trial 92 finished with value: 189.02358258099255 and parameters: {'x': 13.748584748292915, 'y': 0}. Best is trial 13 with value: -0.9999721854361923.\n",
      "[I 2023-11-01 13:42:13,048] Trial 93 finished with value: 0.025323845489470413 and parameters: {'x': -0.15913467720603958, 'y': 0}. Best is trial 13 with value: -0.9999721854361923.\n",
      "[I 2023-11-01 13:42:13,052] Trial 94 finished with value: 25.100214415281805 and parameters: {'x': -5.010011418677786, 'y': 0}. Best is trial 13 with value: -0.9999721854361923.\n",
      "[I 2023-11-01 13:42:13,055] Trial 95 finished with value: 89.47656060785908 and parameters: {'x': -9.459205072724615, 'y': 0}. Best is trial 13 with value: -0.9999721854361923.\n",
      "[I 2023-11-01 13:42:13,059] Trial 96 finished with value: 21.117681230212757 and parameters: {'x': 4.595397831549817, 'y': 0}. Best is trial 13 with value: -0.9999721854361923.\n",
      "[I 2023-11-01 13:42:13,062] Trial 97 finished with value: 89.72356973522585 and parameters: {'x': 9.524892111474326, 'y': -1}. Best is trial 13 with value: -0.9999721854361923.\n",
      "[I 2023-11-01 13:42:13,065] Trial 98 finished with value: 0.3251133649048544 and parameters: {'x': 0.5701871314795296, 'y': 0}. Best is trial 13 with value: -0.9999721854361923.\n",
      "[I 2023-11-01 13:42:13,069] Trial 99 finished with value: 225.36024431379846 and parameters: {'x': 15.012003341120014, 'y': 0}. Best is trial 13 with value: -0.9999721854361923.\n"
     ]
    }
   ],
   "source": [
    "\n",
    "study.optimize(objective, n_trials=100)"
   ]
  },
  {
   "cell_type": "code",
   "execution_count": 5,
   "metadata": {},
   "outputs": [
    {
     "name": "stdout",
     "output_type": "stream",
     "text": [
      "Best value: -0.9999721854361923 (params: {'x': -0.00527395144154541, 'y': -1})\n"
     ]
    }
   ],
   "source": [
    "print(f\"Best value: {study.best_value} (params: {study.best_params})\")"
   ]
  },
  {
   "cell_type": "code",
   "execution_count": 6,
   "metadata": {},
   "outputs": [
    {
     "data": {
      "application/vnd.plotly.v1+json": {
       "config": {
        "plotlyServerURL": "https://plot.ly"
       },
       "data": [
        {
         "mode": "markers",
         "name": "Objective Value",
         "type": "scatter",
         "x": [
          0,
          1,
          2,
          3,
          4,
          5,
          6,
          7,
          8,
          9,
          10,
          11,
          12,
          13,
          14,
          15,
          16,
          17,
          18,
          19,
          20,
          21,
          22,
          23,
          24,
          25,
          26,
          27,
          28,
          29,
          30,
          31,
          32,
          33,
          34,
          35,
          36,
          37,
          38,
          39,
          40,
          41,
          42,
          43,
          44,
          45,
          46,
          47,
          48,
          49,
          50,
          51,
          52,
          53,
          54,
          55,
          56,
          57,
          58,
          59,
          60,
          61,
          62,
          63,
          64,
          65,
          66,
          67,
          68,
          69,
          70,
          71,
          72,
          73,
          74,
          75,
          76,
          77,
          78,
          79,
          80,
          81,
          82,
          83,
          84,
          85,
          86,
          87,
          88,
          89,
          90,
          91,
          92,
          93,
          94,
          95,
          96,
          97,
          98,
          99
         ],
         "y": [
          6233.639747202077,
          1265.897247775904,
          9499.178832444282,
          3445.2499295519933,
          948.1250551022437,
          3933.5155972430825,
          868.4135298991812,
          626.8269203546025,
          2501.672679772785,
          1609.6739947743788,
          14.052996397233082,
          6.881269173124373,
          10.628195004569536,
          -0.9999721854361923,
          672.1288240211741,
          182.5286352693884,
          3382.206531507911,
          9170.683956550569,
          20.331074253645134,
          59.75153252944672,
          252.88723810845377,
          40.49666795283573,
          118.99638867357972,
          1677.099352032847,
          371.45831856918755,
          22.013777856541232,
          379.1976813987677,
          228.3315748511721,
          9.963278800618165,
          3275.6499048500873,
          292.449092318822,
          -0.5479612343097192,
          1281.0212775983202,
          8.345204539236127,
          508.4796062419049,
          121.40776600509325,
          1522.9908364595178,
          69.34217250197528,
          975.0161996015964,
          2.002812810152009,
          665.0972071238849,
          4.848450996394524,
          84.46059362187755,
          295.0822824614257,
          5.246380463870509,
          14.263779480485757,
          665.0933039149643,
          305.5186236984974,
          140.29838585521063,
          1766.06423165042,
          756.1919628091841,
          0.7118224118100286,
          0.05675724737900214,
          110.96879622073983,
          160.89497683644677,
          6.275584778968161,
          568.7931600543526,
          47.903259334259225,
          0.21095589762659908,
          1054.2147336575702,
          165.38492915004878,
          0.6602420255404603,
          2.4143840886048236,
          61.652660047515475,
          154.5843079293102,
          450.772131721487,
          22.572405745221463,
          286.68851852913497,
          41.131113954362,
          309.89603508046264,
          0.2201699880663678,
          0.07452142832542193,
          82.85845123450706,
          61.27724869091671,
          1.1031067611916134,
          422.34146541318034,
          241.5939731331548,
          46.883527534959626,
          26.794028325229544,
          138.63717461499553,
          282.7376843516154,
          0.051110462273060146,
          2.4459507298116305,
          148.03109662237452,
          4.296495635323151,
          42.69686684174696,
          14.479800101370104,
          70.42080646727747,
          437.64996905123206,
          162.8001928516956,
          5.278910898395584,
          0.11381283259891332,
          189.02358258099255,
          0.025323845489470413,
          25.100214415281805,
          89.47656060785908,
          21.117681230212757,
          89.72356973522585,
          0.3251133649048544,
          225.36024431379846
         ]
        },
        {
         "mode": "lines",
         "name": "Best Value",
         "type": "scatter",
         "x": [
          0,
          1,
          2,
          3,
          4,
          5,
          6,
          7,
          8,
          9,
          10,
          11,
          12,
          13,
          14,
          15,
          16,
          17,
          18,
          19,
          20,
          21,
          22,
          23,
          24,
          25,
          26,
          27,
          28,
          29,
          30,
          31,
          32,
          33,
          34,
          35,
          36,
          37,
          38,
          39,
          40,
          41,
          42,
          43,
          44,
          45,
          46,
          47,
          48,
          49,
          50,
          51,
          52,
          53,
          54,
          55,
          56,
          57,
          58,
          59,
          60,
          61,
          62,
          63,
          64,
          65,
          66,
          67,
          68,
          69,
          70,
          71,
          72,
          73,
          74,
          75,
          76,
          77,
          78,
          79,
          80,
          81,
          82,
          83,
          84,
          85,
          86,
          87,
          88,
          89,
          90,
          91,
          92,
          93,
          94,
          95,
          96,
          97,
          98,
          99
         ],
         "y": [
          6233.639747202077,
          1265.897247775904,
          1265.897247775904,
          1265.897247775904,
          948.1250551022437,
          948.1250551022437,
          868.4135298991812,
          626.8269203546025,
          626.8269203546025,
          626.8269203546025,
          14.052996397233082,
          6.881269173124373,
          6.881269173124373,
          -0.9999721854361923,
          -0.9999721854361923,
          -0.9999721854361923,
          -0.9999721854361923,
          -0.9999721854361923,
          -0.9999721854361923,
          -0.9999721854361923,
          -0.9999721854361923,
          -0.9999721854361923,
          -0.9999721854361923,
          -0.9999721854361923,
          -0.9999721854361923,
          -0.9999721854361923,
          -0.9999721854361923,
          -0.9999721854361923,
          -0.9999721854361923,
          -0.9999721854361923,
          -0.9999721854361923,
          -0.9999721854361923,
          -0.9999721854361923,
          -0.9999721854361923,
          -0.9999721854361923,
          -0.9999721854361923,
          -0.9999721854361923,
          -0.9999721854361923,
          -0.9999721854361923,
          -0.9999721854361923,
          -0.9999721854361923,
          -0.9999721854361923,
          -0.9999721854361923,
          -0.9999721854361923,
          -0.9999721854361923,
          -0.9999721854361923,
          -0.9999721854361923,
          -0.9999721854361923,
          -0.9999721854361923,
          -0.9999721854361923,
          -0.9999721854361923,
          -0.9999721854361923,
          -0.9999721854361923,
          -0.9999721854361923,
          -0.9999721854361923,
          -0.9999721854361923,
          -0.9999721854361923,
          -0.9999721854361923,
          -0.9999721854361923,
          -0.9999721854361923,
          -0.9999721854361923,
          -0.9999721854361923,
          -0.9999721854361923,
          -0.9999721854361923,
          -0.9999721854361923,
          -0.9999721854361923,
          -0.9999721854361923,
          -0.9999721854361923,
          -0.9999721854361923,
          -0.9999721854361923,
          -0.9999721854361923,
          -0.9999721854361923,
          -0.9999721854361923,
          -0.9999721854361923,
          -0.9999721854361923,
          -0.9999721854361923,
          -0.9999721854361923,
          -0.9999721854361923,
          -0.9999721854361923,
          -0.9999721854361923,
          -0.9999721854361923,
          -0.9999721854361923,
          -0.9999721854361923,
          -0.9999721854361923,
          -0.9999721854361923,
          -0.9999721854361923,
          -0.9999721854361923,
          -0.9999721854361923,
          -0.9999721854361923,
          -0.9999721854361923,
          -0.9999721854361923,
          -0.9999721854361923,
          -0.9999721854361923,
          -0.9999721854361923,
          -0.9999721854361923,
          -0.9999721854361923,
          -0.9999721854361923,
          -0.9999721854361923,
          -0.9999721854361923,
          -0.9999721854361923
         ]
        },
        {
         "marker": {
          "color": "#cccccc"
         },
         "mode": "markers",
         "name": "Infeasible Trial",
         "showlegend": false,
         "type": "scatter",
         "x": [],
         "y": []
        }
       ],
       "layout": {
        "template": {
         "data": {
          "bar": [
           {
            "error_x": {
             "color": "#2a3f5f"
            },
            "error_y": {
             "color": "#2a3f5f"
            },
            "marker": {
             "line": {
              "color": "#E5ECF6",
              "width": 0.5
             },
             "pattern": {
              "fillmode": "overlay",
              "size": 10,
              "solidity": 0.2
             }
            },
            "type": "bar"
           }
          ],
          "barpolar": [
           {
            "marker": {
             "line": {
              "color": "#E5ECF6",
              "width": 0.5
             },
             "pattern": {
              "fillmode": "overlay",
              "size": 10,
              "solidity": 0.2
             }
            },
            "type": "barpolar"
           }
          ],
          "carpet": [
           {
            "aaxis": {
             "endlinecolor": "#2a3f5f",
             "gridcolor": "white",
             "linecolor": "white",
             "minorgridcolor": "white",
             "startlinecolor": "#2a3f5f"
            },
            "baxis": {
             "endlinecolor": "#2a3f5f",
             "gridcolor": "white",
             "linecolor": "white",
             "minorgridcolor": "white",
             "startlinecolor": "#2a3f5f"
            },
            "type": "carpet"
           }
          ],
          "choropleth": [
           {
            "colorbar": {
             "outlinewidth": 0,
             "ticks": ""
            },
            "type": "choropleth"
           }
          ],
          "contour": [
           {
            "colorbar": {
             "outlinewidth": 0,
             "ticks": ""
            },
            "colorscale": [
             [
              0,
              "#0d0887"
             ],
             [
              0.1111111111111111,
              "#46039f"
             ],
             [
              0.2222222222222222,
              "#7201a8"
             ],
             [
              0.3333333333333333,
              "#9c179e"
             ],
             [
              0.4444444444444444,
              "#bd3786"
             ],
             [
              0.5555555555555556,
              "#d8576b"
             ],
             [
              0.6666666666666666,
              "#ed7953"
             ],
             [
              0.7777777777777778,
              "#fb9f3a"
             ],
             [
              0.8888888888888888,
              "#fdca26"
             ],
             [
              1,
              "#f0f921"
             ]
            ],
            "type": "contour"
           }
          ],
          "contourcarpet": [
           {
            "colorbar": {
             "outlinewidth": 0,
             "ticks": ""
            },
            "type": "contourcarpet"
           }
          ],
          "heatmap": [
           {
            "colorbar": {
             "outlinewidth": 0,
             "ticks": ""
            },
            "colorscale": [
             [
              0,
              "#0d0887"
             ],
             [
              0.1111111111111111,
              "#46039f"
             ],
             [
              0.2222222222222222,
              "#7201a8"
             ],
             [
              0.3333333333333333,
              "#9c179e"
             ],
             [
              0.4444444444444444,
              "#bd3786"
             ],
             [
              0.5555555555555556,
              "#d8576b"
             ],
             [
              0.6666666666666666,
              "#ed7953"
             ],
             [
              0.7777777777777778,
              "#fb9f3a"
             ],
             [
              0.8888888888888888,
              "#fdca26"
             ],
             [
              1,
              "#f0f921"
             ]
            ],
            "type": "heatmap"
           }
          ],
          "heatmapgl": [
           {
            "colorbar": {
             "outlinewidth": 0,
             "ticks": ""
            },
            "colorscale": [
             [
              0,
              "#0d0887"
             ],
             [
              0.1111111111111111,
              "#46039f"
             ],
             [
              0.2222222222222222,
              "#7201a8"
             ],
             [
              0.3333333333333333,
              "#9c179e"
             ],
             [
              0.4444444444444444,
              "#bd3786"
             ],
             [
              0.5555555555555556,
              "#d8576b"
             ],
             [
              0.6666666666666666,
              "#ed7953"
             ],
             [
              0.7777777777777778,
              "#fb9f3a"
             ],
             [
              0.8888888888888888,
              "#fdca26"
             ],
             [
              1,
              "#f0f921"
             ]
            ],
            "type": "heatmapgl"
           }
          ],
          "histogram": [
           {
            "marker": {
             "pattern": {
              "fillmode": "overlay",
              "size": 10,
              "solidity": 0.2
             }
            },
            "type": "histogram"
           }
          ],
          "histogram2d": [
           {
            "colorbar": {
             "outlinewidth": 0,
             "ticks": ""
            },
            "colorscale": [
             [
              0,
              "#0d0887"
             ],
             [
              0.1111111111111111,
              "#46039f"
             ],
             [
              0.2222222222222222,
              "#7201a8"
             ],
             [
              0.3333333333333333,
              "#9c179e"
             ],
             [
              0.4444444444444444,
              "#bd3786"
             ],
             [
              0.5555555555555556,
              "#d8576b"
             ],
             [
              0.6666666666666666,
              "#ed7953"
             ],
             [
              0.7777777777777778,
              "#fb9f3a"
             ],
             [
              0.8888888888888888,
              "#fdca26"
             ],
             [
              1,
              "#f0f921"
             ]
            ],
            "type": "histogram2d"
           }
          ],
          "histogram2dcontour": [
           {
            "colorbar": {
             "outlinewidth": 0,
             "ticks": ""
            },
            "colorscale": [
             [
              0,
              "#0d0887"
             ],
             [
              0.1111111111111111,
              "#46039f"
             ],
             [
              0.2222222222222222,
              "#7201a8"
             ],
             [
              0.3333333333333333,
              "#9c179e"
             ],
             [
              0.4444444444444444,
              "#bd3786"
             ],
             [
              0.5555555555555556,
              "#d8576b"
             ],
             [
              0.6666666666666666,
              "#ed7953"
             ],
             [
              0.7777777777777778,
              "#fb9f3a"
             ],
             [
              0.8888888888888888,
              "#fdca26"
             ],
             [
              1,
              "#f0f921"
             ]
            ],
            "type": "histogram2dcontour"
           }
          ],
          "mesh3d": [
           {
            "colorbar": {
             "outlinewidth": 0,
             "ticks": ""
            },
            "type": "mesh3d"
           }
          ],
          "parcoords": [
           {
            "line": {
             "colorbar": {
              "outlinewidth": 0,
              "ticks": ""
             }
            },
            "type": "parcoords"
           }
          ],
          "pie": [
           {
            "automargin": true,
            "type": "pie"
           }
          ],
          "scatter": [
           {
            "fillpattern": {
             "fillmode": "overlay",
             "size": 10,
             "solidity": 0.2
            },
            "type": "scatter"
           }
          ],
          "scatter3d": [
           {
            "line": {
             "colorbar": {
              "outlinewidth": 0,
              "ticks": ""
             }
            },
            "marker": {
             "colorbar": {
              "outlinewidth": 0,
              "ticks": ""
             }
            },
            "type": "scatter3d"
           }
          ],
          "scattercarpet": [
           {
            "marker": {
             "colorbar": {
              "outlinewidth": 0,
              "ticks": ""
             }
            },
            "type": "scattercarpet"
           }
          ],
          "scattergeo": [
           {
            "marker": {
             "colorbar": {
              "outlinewidth": 0,
              "ticks": ""
             }
            },
            "type": "scattergeo"
           }
          ],
          "scattergl": [
           {
            "marker": {
             "colorbar": {
              "outlinewidth": 0,
              "ticks": ""
             }
            },
            "type": "scattergl"
           }
          ],
          "scattermapbox": [
           {
            "marker": {
             "colorbar": {
              "outlinewidth": 0,
              "ticks": ""
             }
            },
            "type": "scattermapbox"
           }
          ],
          "scatterpolar": [
           {
            "marker": {
             "colorbar": {
              "outlinewidth": 0,
              "ticks": ""
             }
            },
            "type": "scatterpolar"
           }
          ],
          "scatterpolargl": [
           {
            "marker": {
             "colorbar": {
              "outlinewidth": 0,
              "ticks": ""
             }
            },
            "type": "scatterpolargl"
           }
          ],
          "scatterternary": [
           {
            "marker": {
             "colorbar": {
              "outlinewidth": 0,
              "ticks": ""
             }
            },
            "type": "scatterternary"
           }
          ],
          "surface": [
           {
            "colorbar": {
             "outlinewidth": 0,
             "ticks": ""
            },
            "colorscale": [
             [
              0,
              "#0d0887"
             ],
             [
              0.1111111111111111,
              "#46039f"
             ],
             [
              0.2222222222222222,
              "#7201a8"
             ],
             [
              0.3333333333333333,
              "#9c179e"
             ],
             [
              0.4444444444444444,
              "#bd3786"
             ],
             [
              0.5555555555555556,
              "#d8576b"
             ],
             [
              0.6666666666666666,
              "#ed7953"
             ],
             [
              0.7777777777777778,
              "#fb9f3a"
             ],
             [
              0.8888888888888888,
              "#fdca26"
             ],
             [
              1,
              "#f0f921"
             ]
            ],
            "type": "surface"
           }
          ],
          "table": [
           {
            "cells": {
             "fill": {
              "color": "#EBF0F8"
             },
             "line": {
              "color": "white"
             }
            },
            "header": {
             "fill": {
              "color": "#C8D4E3"
             },
             "line": {
              "color": "white"
             }
            },
            "type": "table"
           }
          ]
         },
         "layout": {
          "annotationdefaults": {
           "arrowcolor": "#2a3f5f",
           "arrowhead": 0,
           "arrowwidth": 1
          },
          "autotypenumbers": "strict",
          "coloraxis": {
           "colorbar": {
            "outlinewidth": 0,
            "ticks": ""
           }
          },
          "colorscale": {
           "diverging": [
            [
             0,
             "#8e0152"
            ],
            [
             0.1,
             "#c51b7d"
            ],
            [
             0.2,
             "#de77ae"
            ],
            [
             0.3,
             "#f1b6da"
            ],
            [
             0.4,
             "#fde0ef"
            ],
            [
             0.5,
             "#f7f7f7"
            ],
            [
             0.6,
             "#e6f5d0"
            ],
            [
             0.7,
             "#b8e186"
            ],
            [
             0.8,
             "#7fbc41"
            ],
            [
             0.9,
             "#4d9221"
            ],
            [
             1,
             "#276419"
            ]
           ],
           "sequential": [
            [
             0,
             "#0d0887"
            ],
            [
             0.1111111111111111,
             "#46039f"
            ],
            [
             0.2222222222222222,
             "#7201a8"
            ],
            [
             0.3333333333333333,
             "#9c179e"
            ],
            [
             0.4444444444444444,
             "#bd3786"
            ],
            [
             0.5555555555555556,
             "#d8576b"
            ],
            [
             0.6666666666666666,
             "#ed7953"
            ],
            [
             0.7777777777777778,
             "#fb9f3a"
            ],
            [
             0.8888888888888888,
             "#fdca26"
            ],
            [
             1,
             "#f0f921"
            ]
           ],
           "sequentialminus": [
            [
             0,
             "#0d0887"
            ],
            [
             0.1111111111111111,
             "#46039f"
            ],
            [
             0.2222222222222222,
             "#7201a8"
            ],
            [
             0.3333333333333333,
             "#9c179e"
            ],
            [
             0.4444444444444444,
             "#bd3786"
            ],
            [
             0.5555555555555556,
             "#d8576b"
            ],
            [
             0.6666666666666666,
             "#ed7953"
            ],
            [
             0.7777777777777778,
             "#fb9f3a"
            ],
            [
             0.8888888888888888,
             "#fdca26"
            ],
            [
             1,
             "#f0f921"
            ]
           ]
          },
          "colorway": [
           "#636efa",
           "#EF553B",
           "#00cc96",
           "#ab63fa",
           "#FFA15A",
           "#19d3f3",
           "#FF6692",
           "#B6E880",
           "#FF97FF",
           "#FECB52"
          ],
          "font": {
           "color": "#2a3f5f"
          },
          "geo": {
           "bgcolor": "white",
           "lakecolor": "white",
           "landcolor": "#E5ECF6",
           "showlakes": true,
           "showland": true,
           "subunitcolor": "white"
          },
          "hoverlabel": {
           "align": "left"
          },
          "hovermode": "closest",
          "mapbox": {
           "style": "light"
          },
          "paper_bgcolor": "white",
          "plot_bgcolor": "#E5ECF6",
          "polar": {
           "angularaxis": {
            "gridcolor": "white",
            "linecolor": "white",
            "ticks": ""
           },
           "bgcolor": "#E5ECF6",
           "radialaxis": {
            "gridcolor": "white",
            "linecolor": "white",
            "ticks": ""
           }
          },
          "scene": {
           "xaxis": {
            "backgroundcolor": "#E5ECF6",
            "gridcolor": "white",
            "gridwidth": 2,
            "linecolor": "white",
            "showbackground": true,
            "ticks": "",
            "zerolinecolor": "white"
           },
           "yaxis": {
            "backgroundcolor": "#E5ECF6",
            "gridcolor": "white",
            "gridwidth": 2,
            "linecolor": "white",
            "showbackground": true,
            "ticks": "",
            "zerolinecolor": "white"
           },
           "zaxis": {
            "backgroundcolor": "#E5ECF6",
            "gridcolor": "white",
            "gridwidth": 2,
            "linecolor": "white",
            "showbackground": true,
            "ticks": "",
            "zerolinecolor": "white"
           }
          },
          "shapedefaults": {
           "line": {
            "color": "#2a3f5f"
           }
          },
          "ternary": {
           "aaxis": {
            "gridcolor": "white",
            "linecolor": "white",
            "ticks": ""
           },
           "baxis": {
            "gridcolor": "white",
            "linecolor": "white",
            "ticks": ""
           },
           "bgcolor": "#E5ECF6",
           "caxis": {
            "gridcolor": "white",
            "linecolor": "white",
            "ticks": ""
           }
          },
          "title": {
           "x": 0.05
          },
          "xaxis": {
           "automargin": true,
           "gridcolor": "white",
           "linecolor": "white",
           "ticks": "",
           "title": {
            "standoff": 15
           },
           "zerolinecolor": "white",
           "zerolinewidth": 2
          },
          "yaxis": {
           "automargin": true,
           "gridcolor": "white",
           "linecolor": "white",
           "ticks": "",
           "title": {
            "standoff": 15
           },
           "zerolinecolor": "white",
           "zerolinewidth": 2
          }
         }
        },
        "title": {
         "text": "Optimization History Plot"
        },
        "xaxis": {
         "title": {
          "text": "Trial"
         }
        },
        "yaxis": {
         "title": {
          "text": "Objective Value"
         }
        }
       }
      }
     },
     "metadata": {},
     "output_type": "display_data"
    }
   ],
   "source": [
    "optuna.visualization.plot_optimization_history(study)"
   ]
  }
 ],
 "metadata": {
  "kernelspec": {
   "display_name": "reinfocus",
   "language": "python",
   "name": "python3"
  },
  "language_info": {
   "codemirror_mode": {
    "name": "ipython",
    "version": 3
   },
   "file_extension": ".py",
   "mimetype": "text/x-python",
   "name": "python",
   "nbconvert_exporter": "python",
   "pygments_lexer": "ipython3",
   "version": "3.11.5"
  }
 },
 "nbformat": 4,
 "nbformat_minor": 2
}
